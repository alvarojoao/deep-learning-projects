{
 "cells": [
  {
   "cell_type": "code",
   "execution_count": 1,
   "metadata": {
    "collapsed": false
   },
   "outputs": [],
   "source": [
    "import sys\n",
    "from __future__ import division, print_function, absolute_import\n",
    "sys.path.append('/home/ajss/notebooks/deep-learning-projects/')\n",
    "\n",
    "from tqdm import tqdm\n",
    "from cnn import ConvolutionalNetwork\n",
    "\n",
    "from sklearn.cross_validation import train_test_split\n",
    "from sklearn.metrics import classification_report, accuracy_score\n",
    "import tensorflow as tf\n",
    "import numpy as np\n",
    "import pandas as pd\n",
    "import matplotlib.pyplot as plt\n",
    "import Image\n",
    "from tensorflow.python.ops import control_flow_ops\n",
    "from utils import tile_raster_images\n",
    "import IPython.display\n",
    "import math\n",
    "%matplotlib inline\n",
    "\n",
    "def saveFileForSubmission(predicted_lables,custonFileName='submission.csv',customHeader='ImageId,Label'):\n",
    "    result = np.c_[range(1,len(predicted_lables)+1),predicted_lables]\n",
    "\n",
    "    np.savetxt(custonFileName, \n",
    "           result.astype(int), \n",
    "           delimiter=',', \n",
    "           header = customHeader, \n",
    "           comments = '', \n",
    "           fmt='%u,%u')"
   ]
  },
  {
   "cell_type": "code",
   "execution_count": 2,
   "metadata": {
    "collapsed": false
   },
   "outputs": [
    {
     "name": "stdout",
     "output_type": "stream",
     "text": [
      "(42000, 784)\n",
      "(42000, 10)\n"
     ]
    },
    {
     "data": {
      "image/png": "[encoded data removed]",
      "text/plain": [
       "<matplotlib.figure.Figure at 0x7feb22fabb10>"
      ]
     },
     "metadata": {},
     "output_type": "display_data"
    }
   ],
   "source": [
    "def next_batch(index,data,labels,batch_size=10):\n",
    "    \"\"\"Return the next `batch_size` examples from this data set.\"\"\"\n",
    "    total = data.shape[0]\n",
    "    end = index + batch_size\n",
    "    max_end =  max(0, index + batch_size - total)\n",
    "    retData =  np.concatenate((data[index:end],data[:max_end]), axis=0)\n",
    "    retlabel =  np.concatenate((labels[index:end],labels[:max_end]), axis=0)\n",
    "    return retData,retlabel\n",
    "def plot_gallery(title, images, n_col, n_row,image_shape = (28, 28)):\n",
    "    plt.figure(figsize=(2. * n_col, 2.26 * n_row))\n",
    "    plt.suptitle(title, size=16)\n",
    "    for i, comp in enumerate(images):\n",
    "        plt.subplot(n_row, n_col, i + 1)\n",
    "        vmax = max(comp.max(), -comp.min())\n",
    "        plt.imshow(comp.reshape(image_shape), cmap=plt.cm.gray,            \n",
    "                   vmin=-vmax, vmax=vmax)\n",
    "        plt.xticks(())\n",
    "        plt.yticks(())\n",
    "    plt.subplots_adjust(0.01, 0.05, 0.99, 0.93, 0.04, 0.)\n",
    "    plt.show()   \n",
    "    \n",
    "def dense_to_one_hot(labels_dense, num_classes):\n",
    "    num_labels = labels_dense.shape[0]\n",
    "    index_offset = np.arange(num_labels) * num_classes\n",
    "    labels_one_hot = np.zeros((num_labels, num_classes))\n",
    "    labels_one_hot.flat[index_offset + labels_dense.ravel()] = 1\n",
    "    return labels_one_hot\n",
    "\n",
    "# read training data from CSV file \n",
    "dataTrain = pd.read_csv('./kaggle-mnist/train.csv')\n",
    "images = dataTrain.iloc[:,1:].values\n",
    "images = images.astype(np.float)\n",
    "images = np.multiply(images, 1.0 / 255.0)\n",
    "\n",
    "labels_flat = dataTrain[[0]].values.ravel()\n",
    "labels_count = np.unique(labels_flat).shape[0]\n",
    "labels = dense_to_one_hot(labels_flat, labels_count)\n",
    "#labels = labels_flat #dense_to_one_hot(labels_flat, labels_count)\n",
    "#labels = labels.astype(np.uint8)\n",
    "\n",
    "print(images.shape)\n",
    "print(labels.shape)\n",
    "for i in range(1):\n",
    "    batch_xs, batch_ys = next_batch(i*10, images,labels)\n",
    "    plot_gallery('Base test Encoded_Decoded MNIST',batch_xs[:3],3,1)\n"
   ]
  },
  {
   "cell_type": "markdown",
   "metadata": {},
   "source": [
    "CNN - Classification\n",
    "-------------"
   ]
  },
  {
   "cell_type": "code",
   "execution_count": 3,
   "metadata": {
    "collapsed": false
   },
   "outputs": [
    {
     "name": "stdout",
     "output_type": "stream",
     "text": [
      "Building Convolutional layer with 1 input channels                      and 32 5x5 filters with stride 1\n",
      "Building Max Pooling layer with size 2\n",
      "Building Convolutional layer with 32 input channels                      and 64 5x5 filters with stride 1\n",
      "Building Max Pooling layer with size 2\n",
      "Building fully connected layer with 3136 in units                          and 1024 out units\n",
      "Building softmax layer with 1024 in units and                      10 out units\n"
     ]
    }
   ],
   "source": [
    "\n",
    "# CNN32x24x24\n",
    "layers=\"conv2d-32-24-24-1,maxpool-2,conv2d-5-5-32-1,maxpool-2,full-1024,softmax\"\n",
    "n_features = 784\n",
    "n_classes = 10\n",
    "original_shape = [28,28,1]\n",
    "cnn = ConvolutionalNetwork(layers=layers,n_features=n_features,n_classes=n_classes,original_shape=original_shape,keep_prob=0.9)\n"
   ]
  },
  {
   "cell_type": "code",
   "execution_count": 4,
   "metadata": {
    "collapsed": false,
    "scrolled": true
   },
   "outputs": [
    {
     "name": "stderr",
     "output_type": "stream",
     "text": [
      "\r",
      "  0%|          | 0/200 [00:00<?, ?it/s]"
     ]
    },
    {
     "name": "stdout",
     "output_type": "stream",
     "text": [
      "CNN\n"
     ]
    },
    {
     "name": "stderr",
     "output_type": "stream",
     "text": [
      "\r",
      "  0%|          | 1/200 [00:23<1:16:33, 23.08s/it]"
     ]
    },
    {
     "name": "stdout",
     "output_type": "stream",
     "text": [
      "0 cost:  188.848459028\n"
     ]
    },
    {
     "name": "stderr",
     "output_type": "stream",
     "text": [
      "100%|██████████| 200/200 [1:15:47<00:00, 22.71s/it]"
     ]
    },
    {
     "name": "stdout",
     "output_type": "stream",
     "text": [
      "199 cost:  0.0780121872083\n"
     ]
    },
    {
     "name": "stderr",
     "output_type": "stream",
     "text": [
      "\n"
     ]
    }
   ],
   "source": [
    "# Train DBN\n",
    "batch_size = 30\n",
    "epoch = 200\n",
    "X_train, X_test, y_train, y_test = train_test_split(images, labels, test_size=0.1, random_state=42)\n",
    "\n",
    "interactions = int(math.floor(X_train.shape[0]/batch_size))\n",
    "print_times = 3\n",
    "print('CNN')\n",
    "for i in tqdm(range(epoch)):\n",
    "    cost = 0.0\n",
    "    for j in range(interactions):\n",
    "        batch_xs, batch_ys = next_batch(j*batch_size, X_train,y_train,batch_size)\n",
    "        cost += cnn.partial_fit(batch_xs,batch_ys)\n",
    "    if i==0:\n",
    "        print(i,'cost: ',cost)        \n",
    "print(i,'cost: ',cost)\n",
    "\n"
   ]
  },
  {
   "cell_type": "code",
   "execution_count": 5,
   "metadata": {
    "collapsed": false
   },
   "outputs": [
    {
     "data": {
      "text/plain": [
       "['conv2d-5-5-32-1',\n",
       " 'maxpool-2',\n",
       " 'conv2d-5-5-64-1',\n",
       " 'maxpool-2',\n",
       " 'full-1024',\n",
       " 'softmax']"
      ]
     },
     "execution_count": 5,
     "metadata": {},
     "output_type": "execute_result"
    }
   ],
   "source": [
    "cnn.save_weights('./data-models/cnn/cnn.chp')\n",
    "names = cnn.layers.split(',')\n",
    "names"
   ]
  },
  {
   "cell_type": "code",
   "execution_count": 6,
   "metadata": {
    "collapsed": false
   },
   "outputs": [
    {
     "name": "stdout",
     "output_type": "stream",
     "text": [
      "             precision    recall  f1-score   support\n",
      "\n",
      "          0       1.00      1.00      1.00       408\n",
      "          1       1.00      0.99      0.99       471\n",
      "          2       0.98      0.99      0.98       420\n",
      "          3       0.99      0.99      0.99       506\n",
      "          4       0.98      0.98      0.98       397\n",
      "          5       0.99      0.99      0.99       339\n",
      "          6       0.99      0.99      0.99       402\n",
      "          7       0.99      0.98      0.99       438\n",
      "          8       0.99      0.99      0.99       403\n",
      "          9       0.98      0.99      0.99       416\n",
      "\n",
      "avg / total       0.99      0.99      0.99      4200\n",
      "\n"
     ]
    }
   ],
   "source": [
    "# cnn.restoreWeights('./data-models/cnn/')\n",
    "y_true, y_pred = np.argmax(y_test, axis=1), cnn.predict(X_test) # Get our predictions\n",
    "print(classification_report(y_true, y_pred)) # Classification on each digit"
   ]
  },
  {
   "cell_type": "code",
   "execution_count": 7,
   "metadata": {
    "collapsed": false
   },
   "outputs": [
    {
     "data": {
      "text/plain": [
       "(28000, 784)"
      ]
     },
     "execution_count": 7,
     "metadata": {},
     "output_type": "execute_result"
    }
   ],
   "source": [
    "# read test data from CSV file \n",
    "datatest = pd.read_csv('./kaggle-mnist/test.csv')\n",
    "imagestest = datatest.iloc[:,:].values\n",
    "imagestest = imagestest.astype(np.float)\n",
    "imagestest = np.multiply(imagestest, 1.0 / 255.0)\n",
    "imagestest.shape"
   ]
  },
  {
   "cell_type": "code",
   "execution_count": 8,
   "metadata": {
    "collapsed": false
   },
   "outputs": [],
   "source": [
    "a = cnn.predict(imagestest[0:10000]) \n",
    "b = cnn.predict(imagestest[10000:20000]) \n",
    "c = cnn.predict(imagestest[20000:28000]) \n"
   ]
  },
  {
   "cell_type": "code",
   "execution_count": 9,
   "metadata": {
    "collapsed": false
   },
   "outputs": [],
   "source": [
    "saveFileForSubmission(np.concatenate([a,b,c]),custonFileName=\"custoCnn2.csv\")"
   ]
  },
  {
   "cell_type": "code",
   "execution_count": null,
   "metadata": {
    "collapsed": true
   },
   "outputs": [],
   "source": []
  }
 ],
 "metadata": {
  "kernelspec": {
   "display_name": "Python 2",
   "language": "python",
   "name": "python2"
  },
  "language_info": {
   "codemirror_mode": {
    "name": "ipython",
    "version": 2
   },
   "file_extension": ".py",
   "mimetype": "text/x-python",
   "name": "python",
   "nbconvert_exporter": "python",
   "pygments_lexer": "ipython2",
   "version": "2.7.12"
  }
 },
 "nbformat": 4,
 "nbformat_minor": 1
}
