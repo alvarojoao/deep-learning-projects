{
 "cells": [
  {
   "cell_type": "code",
   "execution_count": 1,
   "metadata": {
    "collapsed": false
   },
   "outputs": [
    {
     "name": "stdout",
     "output_type": "stream",
     "text": [
      "3!= 6.0 = e^(ln[gamma(4)]) = 6\n",
      "120.0\n",
      "4.03291461127e+26\n",
      "24.0\n",
      "0.994376487882\n",
      "0.00562351211827\n",
      "1.0\n",
      "0.112754082424\n",
      "0.520357177501\n",
      "0.842681743299\n",
      "0.999999999998\n",
      "-0.112754082424\n",
      "-0.520357177501\n",
      "-0.842681743299\n",
      "-0.999999999998\n",
      "36.4981663726\n",
      "0.999329074744\n"
     ]
    }
   ],
   "source": [
    "import sys\n",
    "from __future__ import division, print_function, absolute_import\n",
    "sys.path.append('/home/ajss/notebooks/deep-learning-projects/')\n",
    "\n",
    "from tqdm import tqdm\n",
    "from rbm import RBM\n",
    "from deep_mix_nn import DeepMixNN\n",
    "from dbn import DeepBeliefNN\n",
    "\n",
    "import silhouette_plot  \n",
    "\n",
    "\n",
    "from sklearn.cross_validation import train_test_split\n",
    "from sklearn.metrics import classification_report, accuracy_score\n",
    "import tensorflow as tf\n",
    "import numpy as np\n",
    "import pandas as pd\n",
    "import matplotlib.pyplot as plt\n",
    "import Image\n",
    "from tensorflow.python.ops import control_flow_ops\n",
    "from utils import tile_raster_images\n",
    "import IPython.display\n",
    "import math\n",
    "%matplotlib inline\n",
    "\n",
    "def saveFileForSubmission(predicted_lables,custonFileName='submission.csv',customHeader='ImageId,Label'):\n",
    "    result = np.c_[range(1,len(predicted_lables)+1),predicted_lables]\n",
    "\n",
    "    np.savetxt(custonFileName, \n",
    "           result.astype(int), \n",
    "           delimiter=',', \n",
    "           header = customHeader, \n",
    "           comments = '', \n",
    "           fmt='%u,%u')"
   ]
  },
  {
   "cell_type": "code",
   "execution_count": 2,
   "metadata": {
    "collapsed": false
   },
   "outputs": [
    {
     "name": "stdout",
     "output_type": "stream",
     "text": [
      "(42000, 784)\n",
      "(42000, 10)\n"
     ]
    },
    {
     "data": {
      "image/png": "[encoded data removed]",
      "text/plain": [
       "<matplotlib.figure.Figure at 0x7fb8ed04b910>"
      ]
     },
     "metadata": {},
     "output_type": "display_data"
    }
   ],
   "source": [
    "def next_batch(index,data,labels,batch_size=10):\n",
    "    \"\"\"Return the next `batch_size` examples from this data set.\"\"\"\n",
    "    total = data.shape[0]\n",
    "    end = index + batch_size\n",
    "    max_end =  max(0, index + batch_size - total)\n",
    "    retData =  np.concatenate((data[index:end],data[:max_end]), axis=0)\n",
    "    retlabel =  np.concatenate((labels[index:end],labels[:max_end]), axis=0)\n",
    "    return retData,retlabel\n",
    "def plot_gallery(title, images, n_col, n_row,image_shape = (28, 28)):\n",
    "    plt.figure(figsize=(2. * n_col, 2.26 * n_row))\n",
    "    plt.suptitle(title, size=16)\n",
    "    for i, comp in enumerate(images):\n",
    "        plt.subplot(n_row, n_col, i + 1)\n",
    "        vmax = max(comp.max(), -comp.min())\n",
    "        plt.imshow(comp.reshape(image_shape), cmap=plt.cm.gray,            \n",
    "                   vmin=-vmax, vmax=vmax)\n",
    "        plt.xticks(())\n",
    "        plt.yticks(())\n",
    "    plt.subplots_adjust(0.01, 0.05, 0.99, 0.93, 0.04, 0.)\n",
    "    plt.show()   \n",
    "    \n",
    "def dense_to_one_hot(labels_dense, num_classes):\n",
    "    num_labels = labels_dense.shape[0]\n",
    "    index_offset = np.arange(num_labels) * num_classes\n",
    "    labels_one_hot = np.zeros((num_labels, num_classes))\n",
    "    labels_one_hot.flat[index_offset + labels_dense.ravel()] = 1\n",
    "    return labels_one_hot\n",
    "\n",
    "# read training data from CSV file \n",
    "dataTrain = pd.read_csv('./kaggle-mnist/train.csv')\n",
    "images = dataTrain.iloc[:,1:].values\n",
    "images = images.astype(np.float)\n",
    "images = np.multiply(images, 1.0 / 255.0)\n",
    "\n",
    "labels_flat = dataTrain[[0]].values.ravel()\n",
    "labels_count = np.unique(labels_flat).shape[0]\n",
    "labels = dense_to_one_hot(labels_flat, labels_count)\n",
    "labels_int = labels_flat\n",
    "labels_int = labels_flat.astype(np.uint8)\n",
    "\n",
    "#labels = labels_flat #dense_to_one_hot(labels_flat, labels_count)\n",
    "#labels = labels.astype(np.uint8)\n",
    "\n",
    "print(images.shape)\n",
    "print(labels.shape)\n",
    "for i in range(1):\n",
    "    batch_xs, batch_ys = next_batch(i*10, images,labels)\n",
    "    plot_gallery('Base test Encoded_Decoded MNIST',batch_xs[:3],3,1)\n"
   ]
  },
  {
   "cell_type": "markdown",
   "metadata": {},
   "source": [
    "RBM - Pre Treino\n",
    "---------"
   ]
  },
  {
   "cell_type": "code",
   "execution_count": 3,
   "metadata": {
    "collapsed": false
   },
   "outputs": [],
   "source": [
    "\n",
    "flags = tf.app.flags\n",
    "FLAGS = flags.FLAGS\n",
    "#flags.DEFINE_string('data_dir', '/home/ajsss/data_deep/', 'Directory for storing data')\n"
   ]
  },
  {
   "cell_type": "code",
   "execution_count": 4,
   "metadata": {
    "collapsed": false
   },
   "outputs": [],
   "source": [
    "# from rbm import RBM\n",
    "\n",
    "# keep_prob_value = 1\n",
    "# # First RBM\n",
    "# rbmobject1 = RBM(784, 1000, ['rbmw1', 'rbvb1', 'rbmhb1'],0.3,keep_prob=keep_prob_value)\n",
    "# # Train First RBM\n",
    "# # with tf.device(\"/job:RBMAJSS/task:0/cpu:0\"):\n",
    "# epoch = 50\n",
    "# batch_size =30\n",
    "# interactions = int(math.floor(images.shape[0]/batch_size))\n",
    "# for i in tqdm(range(epoch)):\n",
    "#     for j in range(interactions):\n",
    "#         batch_xs, batch_ys = next_batch(j*batch_size, images,labels,batch_size)\n",
    "#         cost = rbmobject1.partial_fit(batch_xs)\n",
    "#     print(rbmobject1.compute_cost(images))\n",
    "# rbmobject1.save_weights('./data-models/rbmw1.chp')\n",
    "# # Second RBM\n",
    "# rbmobject2 = RBM(1000, 500, ['rbmw2', 'rbvb2', 'rbmhb2'], 0.3,keep_prob=keep_prob_value)\n",
    "# # Train Second RBM\n",
    "# for i in tqdm(range(epoch)):\n",
    "#     for j in range(interactions):\n",
    "#         # Transform features with first rbm for second rbm\n",
    "#         batch_xs, batch_ys = next_batch(j*batch_size, images,labels,batch_size)\n",
    "#         batch_xs = rbmobject1.transform(batch_xs)\n",
    "#         cost = rbmobject2.partial_fit(batch_xs)\n",
    "#     print(rbmobject2.compute_cost(rbmobject1.transform(images)))\n",
    "\n",
    "# rbmobject2.save_weights('./data-models/rbmw2.chp')\n",
    "# # third RBM\n",
    "# rbmobject3 = RBM(500, 250, ['rbmw3', 'rbvb3', 'rbmhb3'], 0.3,keep_prob=keep_prob_value)\n",
    "# # Train third RBM\n",
    "# for i in tqdm(range(epoch)):\n",
    "#     for j in range(interactions):\n",
    "#         # Transform features with first rbm for second rbm\n",
    "#         batch_xs, batch_ys = next_batch(j*batch_size, images,labels,batch_size)\n",
    "#         batch_xs = rbmobject1.transform(batch_xs)\n",
    "#         batch_xs = rbmobject2.transform(batch_xs)\n",
    "#         cost = rbmobject3.partial_fit(batch_xs)\n",
    "#     print(rbmobject3.compute_cost(rbmobject2.transform(rbmobject1.transform(images))))\n",
    "\n",
    "# rbmobject3.save_weights('./data-models/rbmw3.chp')\n",
    "# # 4th RBM\n",
    "# rbmobject4 = RBM(250, 2, ['rbmw4', 'rbvb4', 'rbmhb4'], 0.3,keep_prob=keep_prob_value)\n",
    "# # Train 4th RBM\n",
    "# for i in tqdm(range(epoch)):\n",
    "#     for j in range(interactions):\n",
    "#         # Transform features with first rbm for second rbm\n",
    "#         batch_xs, batch_ys = next_batch(j*batch_size, images,labels,batch_size)\n",
    "#         batch_xs = rbmobject1.transform(batch_xs)\n",
    "#         batch_xs = rbmobject2.transform(batch_xs)\n",
    "#         batch_xs = rbmobject3.transform(batch_xs)\n",
    "#         cost = rbmobject4.partial_fit(batch_xs)\n",
    "#     print(rbmobject4.compute_cost(rbmobject3.transform(rbmobject2.transform(rbmobject1.transform(images)))))\n",
    "\n",
    "# rbmobject4.save_weights('./data-models/rbmw4.chp')\n"
   ]
  },
  {
   "cell_type": "code",
   "execution_count": 5,
   "metadata": {
    "collapsed": false
   },
   "outputs": [],
   "source": [
    "# from sklearn.cross_validation import train_test_split\n",
    "# X_train, X_test, y_train, y_test = train_test_split(images, labels, test_size=0.3, random_state=42)\n",
    "# batch_xs = rbmobject1.transform(X_test)\n",
    "# batch_xs = rbmobject2.transform(batch_xs)\n",
    "# batch_xs = rbmobject3.transform(batch_xs)\n",
    "# X_transformed = rbmobject4.transform(batch_xs)\n",
    "# colors= [\"chartreuse\",\"crimson\",\"cyan\",\"darkblue\",\"darkmagenta\",\"darkorange\",\"darkviolet\",\"fuchsia\",\"green\",\"yellow\"]\n",
    "# plt.figure(figsize=(8, 8))\n",
    "# for c, i,target_name in zip(colors, range(10),map(lambda x:str(x),range(10))):\n",
    "#     plt.scatter(X_transformed[y_test == i, 0], X_transformed[y_test == i, 1],\n",
    "#                 c=c, label=target_name)\n",
    "#     plt.title(\"Digits\")\n",
    "# plt.legend(loc=\"best\")\n"
   ]
  },
  {
   "cell_type": "markdown",
   "metadata": {},
   "source": [
    "DeepMixNN\n",
    "------"
   ]
  },
  {
   "cell_type": "code",
   "execution_count": 6,
   "metadata": {
    "collapsed": false
   },
   "outputs": [],
   "source": [
    "\n",
    "# Autoencoder\n",
    "mixDbn = DeepMixNN(784,10, [1000, 500,250],  [['rbmw1', 'rbmhb1'],\n",
    "                                                ['rbmw2', 'rbmhb2'],\n",
    "                                                ['rbmw3', 'rbmhb3']],\n",
    "                                           finetune_learning_rate=0.3,keep_prob=0.9,dir_='mixDbn1')\n",
    "# Load RBM weights to Autoencoder\n",
    "mixDbn.load_rbm_weights('./data-models/rbmw1.chp', ['rbmw1', 'rbmhb1'], 0)\n",
    "mixDbn.load_rbm_weights('./data-models/rbmw2.chp', ['rbmw2', 'rbmhb2'], 1)\n",
    "mixDbn.load_rbm_weights('./data-models/rbmw3.chp', ['rbmw3', 'rbmhb3'], 2)\n",
    "# mixDbn.load_rbm_weights('./data-models/rbmw4.chp', ['rbmw4', 'rbmhb4'], 3)\n"
   ]
  },
  {
   "cell_type": "code",
   "execution_count": 7,
   "metadata": {
    "collapsed": false
   },
   "outputs": [],
   "source": [
    "#dbn.last_out.eval({dbn.x:batch_xs,dbn.keep_prob:1},session=dbn.sess)\n",
    "#dbn.last_W.eval({},session=dbn.sess)"
   ]
  },
  {
   "cell_type": "code",
   "execution_count": 8,
   "metadata": {
    "collapsed": false,
    "scrolled": true
   },
   "outputs": [
    {
     "name": "stderr",
     "output_type": "stream",
     "text": [
      "\r",
      "  0%|          | 0/100 [00:00<?, ?it/s]"
     ]
    },
    {
     "name": "stdout",
     "output_type": "stream",
     "text": [
      "mixDbn\n"
     ]
    },
    {
     "name": "stderr",
     "output_type": "stream",
     "text": [
      "100%|██████████| 100/100 [1:24:22<00:00, 50.64s/it]\n"
     ]
    }
   ],
   "source": [
    "# Train DBN\n",
    "batch_size =30\n",
    "epoch = 100\n",
    "X_train, X_test, y_train, y_test = train_test_split(images, labels, test_size=0.4, random_state=42)\n",
    "X_test, X_valid, y_test, y_valid = train_test_split(X_test, y_test, test_size=0.375, random_state=4456)\n",
    "\n",
    "interactions = int(math.floor(X_train.shape[0]/batch_size))\n",
    "print_times = 1\n",
    "print('mixDbn')\n",
    "for i in tqdm(range(epoch)):\n",
    "    cost_unsup_ = 0.0\n",
    "    cost_sup_ = 0.0\n",
    "    for j in range(interactions):\n",
    "        batch_xs, batch_ys = next_batch(j*batch_size, X_train,y_train,batch_size)\n",
    "        mixDbn.partial_fit(batch_xs,batch_ys,X_valid,y_valid,i,j,interactions)\n",
    "\n",
    "mixDbn.save_weights('./data-models/mixDbn.chp')\n"
   ]
  },
  {
   "cell_type": "code",
   "execution_count": 14,
   "metadata": {
    "collapsed": false
   },
   "outputs": [],
   "source": [
    "# X_train, X_test, y_train, y_test = train_test_split(images, labels, test_size=0.1, random_state=42)\n",
    "# cost_sup,cost_unsup = mixDbn.partial_fit(X_test,y_test)\n",
    "# print(cost_sup,cost_unsup)\n",
    "# cost_sup,cost_unsup = mixDbn.compute_cost(X_test,y_test)\n",
    "# print(cost_sup,cost_unsup)"
   ]
  },
  {
   "cell_type": "code",
   "execution_count": 15,
   "metadata": {
    "collapsed": false
   },
   "outputs": [
    {
     "name": "stdout",
     "output_type": "stream",
     "text": [
      "             precision    recall  f1-score   support\n",
      "\n",
      "          0       0.98      0.99      0.99       985\n",
      "          1       0.99      0.99      0.99      1151\n",
      "          2       0.98      0.98      0.98      1065\n",
      "          3       0.98      0.97      0.98      1134\n",
      "          4       0.98      0.98      0.98      1003\n",
      "          5       0.99      0.97      0.98       903\n",
      "          6       0.98      0.99      0.98      1036\n",
      "          7       0.98      0.99      0.98      1136\n",
      "          8       0.98      0.98      0.98      1011\n",
      "          9       0.97      0.97      0.97      1076\n",
      "\n",
      "avg / total       0.98      0.98      0.98     10500\n",
      "\n"
     ]
    }
   ],
   "source": [
    "#mixDbn.load_weights('./data-models/mixDbn.chp')\n",
    "y_true, y_pred = np.argmax(y_test, axis=1), mixDbn.predict(X_test) # Get our predictions\n",
    "print(classification_report(y_true, y_pred)) # Classification on each digit"
   ]
  },
  {
   "cell_type": "code",
   "execution_count": 16,
   "metadata": {
    "collapsed": true
   },
   "outputs": [],
   "source": [
    "# read test data from CSV file \n",
    "datatest = pd.read_csv('./kaggle-mnist/test.csv')\n",
    "imagestest = datatest.iloc[:,:].values\n",
    "imagestest = imagestest.astype(np.float)\n",
    "imagestest = np.multiply(imagestest, 1.0 / 255.0)\n",
    "# a = mixDbn.model_predictions.eval({mixDbn.x: imagestest,mixDbn.x_corr:imagestest,mixDbn.keep_prob: 1},session=mixDbn.sess)\n",
    "saveFileForSubmission(mixDbn.predict(imagestest),custonFileName=\"custoMixDbn1.csv\")"
   ]
  },
  {
   "cell_type": "markdown",
   "metadata": {},
   "source": [
    "DeepMixNN No RBM\n",
    "---------"
   ]
  },
  {
   "cell_type": "code",
   "execution_count": 6,
   "metadata": {
    "collapsed": false
   },
   "outputs": [],
   "source": [
    "\n",
    "# Autoencoder\n",
    "mixDbn = DeepMixNN(784,10, [1000, 500,250],  [['rbmw1', 'rbmhb1'],\n",
    "                                                ['rbmw2', 'rbmhb2'],\n",
    "                                                ['rbmw3', 'rbmhb3']],\n",
    "                                           finetune_learning_rate=0.3,keep_prob=0.9,dir_='mixDbn-noRBM')\n",
    "# Load RBM weights to Autoencoder\n",
    "# mixDbn.load_rbm_weights('./data-models/rbmw1.chp', ['rbmw1', 'rbmhb1'], 0)\n",
    "# mixDbn.load_rbm_weights('./data-models/rbmw2.chp', ['rbmw2', 'rbmhb2'], 1)\n",
    "# mixDbn.load_rbm_weights('./data-models/rbmw3.chp', ['rbmw3', 'rbmhb3'], 2)\n",
    "# mixDbn.load_rbm_weights('./data-models/rbmw4.chp', ['rbmw4', 'rbmhb4'], 3)\n"
   ]
  },
  {
   "cell_type": "code",
   "execution_count": 7,
   "metadata": {
    "collapsed": false
   },
   "outputs": [
    {
     "name": "stderr",
     "output_type": "stream",
     "text": [
      "\r",
      "  0%|          | 0/100 [00:00<?, ?it/s]"
     ]
    },
    {
     "name": "stdout",
     "output_type": "stream",
     "text": [
      "mixDbn\n"
     ]
    },
    {
     "name": "stderr",
     "output_type": "stream",
     "text": [
      "100%|██████████| 100/100 [1:24:38<00:00, 50.72s/it]\n"
     ]
    }
   ],
   "source": [
    "# Train DBN\n",
    "batch_size =30\n",
    "epoch = 100\n",
    "X_train, X_test, y_train, y_test = train_test_split(images, labels, test_size=0.4, random_state=42)\n",
    "X_test, X_valid, y_test, y_valid = train_test_split(X_test, y_test, test_size=0.375, random_state=4456)\n",
    "\n",
    "interactions = int(math.floor(X_train.shape[0]/batch_size))\n",
    "print_times = 1\n",
    "print('mixDbn')\n",
    "for i in tqdm(range(epoch)):\n",
    "    cost_unsup_ = 0.0\n",
    "    cost_sup_ = 0.0\n",
    "    for j in range(interactions):\n",
    "        batch_xs, batch_ys = next_batch(j*batch_size, X_train,y_train,batch_size)\n",
    "        mixDbn.partial_fit(batch_xs,batch_ys,X_valid,y_valid,i,j,interactions)\n",
    "\n",
    "mixDbn.save_weights('./data-models/mixDbn-norbm.chp')\n"
   ]
  },
  {
   "cell_type": "code",
   "execution_count": 8,
   "metadata": {
    "collapsed": false
   },
   "outputs": [
    {
     "name": "stdout",
     "output_type": "stream",
     "text": [
      "             precision    recall  f1-score   support\n",
      "\n",
      "          0       0.98      0.99      0.99       985\n",
      "          1       0.99      0.99      0.99      1151\n",
      "          2       0.98      0.98      0.98      1065\n",
      "          3       0.97      0.97      0.97      1134\n",
      "          4       0.99      0.97      0.98      1003\n",
      "          5       0.97      0.97      0.97       903\n",
      "          6       0.99      0.98      0.99      1036\n",
      "          7       0.98      0.98      0.98      1136\n",
      "          8       0.98      0.97      0.98      1011\n",
      "          9       0.96      0.98      0.97      1076\n",
      "\n",
      "avg / total       0.98      0.98      0.98     10500\n",
      "\n"
     ]
    }
   ],
   "source": [
    "#mixDbn.load_weights('./data-models/mixDbn.chp')\n",
    "y_true, y_pred = np.argmax(y_test, axis=1), mixDbn.predict(X_test) # Get our predictions\n",
    "print(classification_report(y_true, y_pred)) # Classification on each digit"
   ]
  },
  {
   "cell_type": "code",
   "execution_count": 9,
   "metadata": {
    "collapsed": true
   },
   "outputs": [],
   "source": [
    "# read test data from CSV file \n",
    "datatest = pd.read_csv('./kaggle-mnist/test.csv')\n",
    "imagestest = datatest.iloc[:,:].values\n",
    "imagestest = imagestest.astype(np.float)\n",
    "imagestest = np.multiply(imagestest, 1.0 / 255.0)\n",
    "# a = mixDbn.model_predictions.eval({mixDbn.x: imagestest,mixDbn.x_corr:imagestest,mixDbn.keep_prob: 1},session=mixDbn.sess)\n",
    "saveFileForSubmission(mixDbn.predict(imagestest),custonFileName=\"custoMixDbn2.csv\")"
   ]
  },
  {
   "cell_type": "markdown",
   "metadata": {},
   "source": [
    "With Noise\n",
    "--------"
   ]
  },
  {
   "cell_type": "code",
   "execution_count": 10,
   "metadata": {
    "collapsed": true
   },
   "outputs": [],
   "source": [
    "\n",
    "# Autoencoder\n",
    "mixDbn = DeepMixNN(784,10, [1000, 500,250],  [['rbmw1', 'rbmhb1'],\n",
    "                                                ['rbmw2', 'rbmhb2'],\n",
    "                                                ['rbmw3', 'rbmhb3']],\n",
    "                                           finetune_learning_rate=0.3,keep_prob=0.9,corr_frac=0.3\n",
    "                                           ,corr_type='masking',dir_='mixDbn-withnoise')\n",
    "# Load RBM weights to Autoencoder\n",
    "mixDbn.load_rbm_weights('./data-models/rbmw1.chp', ['rbmw1', 'rbmhb1'], 0)\n",
    "mixDbn.load_rbm_weights('./data-models/rbmw2.chp', ['rbmw2', 'rbmhb2'], 1)\n",
    "mixDbn.load_rbm_weights('./data-models/rbmw3.chp', ['rbmw3', 'rbmhb3'], 2)\n",
    "# mixDbn.load_rbm_weights('./data-models/rbmw4.chp', ['rbmw4', 'rbmhb4'], 3)\n"
   ]
  },
  {
   "cell_type": "code",
   "execution_count": 11,
   "metadata": {
    "collapsed": false
   },
   "outputs": [
    {
     "name": "stderr",
     "output_type": "stream",
     "text": [
      "\r",
      "  0%|          | 0/100 [00:00<?, ?it/s]"
     ]
    },
    {
     "name": "stdout",
     "output_type": "stream",
     "text": [
      "mixDbn\n"
     ]
    },
    {
     "name": "stderr",
     "output_type": "stream",
     "text": [
      "100%|██████████| 100/100 [1:21:49<00:00, 49.09s/it]\n"
     ]
    }
   ],
   "source": [
    "# Train DBN\n",
    "batch_size =30\n",
    "epoch = 100\n",
    "X_train, X_test, y_train, y_test = train_test_split(images, labels, test_size=0.4, random_state=42)\n",
    "X_test, X_valid, y_test, y_valid = train_test_split(X_test, y_test, test_size=0.375, random_state=4456)\n",
    "\n",
    "interactions = int(math.floor(X_train.shape[0]/batch_size))\n",
    "print_times = 1\n",
    "print('mixDbn')\n",
    "for i in tqdm(range(epoch)):\n",
    "    cost_unsup_ = 0.0\n",
    "    cost_sup_ = 0.0\n",
    "    for j in range(interactions):\n",
    "        batch_xs, batch_ys = next_batch(j*batch_size, X_train,y_train,batch_size)\n",
    "        mixDbn.partial_fit(batch_xs,batch_ys,X_valid,y_valid,i,j,interactions)\n",
    "\n",
    "mixDbn.save_weights('./data-models/mixDbn-withnoise.chp')\n"
   ]
  },
  {
   "cell_type": "code",
   "execution_count": 12,
   "metadata": {
    "collapsed": false
   },
   "outputs": [
    {
     "name": "stdout",
     "output_type": "stream",
     "text": [
      "             precision    recall  f1-score   support\n",
      "\n",
      "          0       0.98      0.99      0.99       985\n",
      "          1       0.99      0.99      0.99      1151\n",
      "          2       0.98      0.98      0.98      1065\n",
      "          3       0.99      0.97      0.98      1134\n",
      "          4       0.97      0.98      0.98      1003\n",
      "          5       0.98      0.97      0.97       903\n",
      "          6       0.98      0.99      0.98      1036\n",
      "          7       0.98      0.98      0.98      1136\n",
      "          8       0.97      0.97      0.97      1011\n",
      "          9       0.97      0.97      0.97      1076\n",
      "\n",
      "avg / total       0.98      0.98      0.98     10500\n",
      "\n"
     ]
    }
   ],
   "source": [
    "#mixDbn.load_weights('./data-models/mixDbn.chp')\n",
    "y_true, y_pred = np.argmax(y_test, axis=1), mixDbn.predict(X_test) # Get our predictions\n",
    "print(classification_report(y_true, y_pred)) # Classification on each digit"
   ]
  },
  {
   "cell_type": "code",
   "execution_count": 13,
   "metadata": {
    "collapsed": true
   },
   "outputs": [],
   "source": [
    "# read test data from CSV file \n",
    "datatest = pd.read_csv('./kaggle-mnist/test.csv')\n",
    "imagestest = datatest.iloc[:,:].values\n",
    "imagestest = imagestest.astype(np.float)\n",
    "imagestest = np.multiply(imagestest, 1.0 / 255.0)\n",
    "# a = mixDbn.model_predictions.eval({mixDbn.x: imagestest,mixDbn.x_corr:imagestest,mixDbn.keep_prob: 1},session=mixDbn.sess)\n",
    "saveFileForSubmission(mixDbn.predict(imagestest),custonFileName=\"custoMixDbn3.csv\")"
   ]
  },
  {
   "cell_type": "markdown",
   "metadata": {},
   "source": [
    "Using dA\n",
    "---------"
   ]
  },
  {
   "cell_type": "code",
   "execution_count": null,
   "metadata": {
    "collapsed": false
   },
   "outputs": [],
   "source": [
    "\n",
    "# Autoencoder\n",
    "mixDbn = DeepMixNN(784,10, [1000, 500,250], [['daw1', 'dahb1'],\n",
    "                                                ['daw2', 'dahb2'],\n",
    "                                                ['daw3', 'dahb3']],\n",
    "                                           finetune_learning_rate=0.3,keep_prob=0.9)\n",
    "# Load da weights to Autoencoder\n",
    "mixDbn.load_rbm_weights('./data-models/da1.chp', ['daw1', 'dahb1'], 0)\n",
    "mixDbn.load_rbm_weights('./data-models/da2.chp', ['daw2', 'dahb2'], 1)\n",
    "mixDbn.load_rbm_weights('./data-models/da3.chp', ['daw3', 'dahb3'], 2)\n",
    "# mixDbn.load_rbm_weights('./data-models/da4.chp', ['daw4', 'dahb4'], 3)\n",
    "\n",
    "# Train DBN\n",
    "batch_size =30\n",
    "epoch = 200\n",
    "X_train, X_test, y_train, y_test = train_test_split(images, labels, test_size=0.1, random_state=42)\n",
    "\n",
    "interactions = int(math.floor(X_train.shape[0]/batch_size))\n",
    "print_times = 1\n",
    "print('mixDbn')\n",
    "for i in tqdm(range(epoch)):\n",
    "    cost_unsup_ = 0.0\n",
    "    cost_sup_ = 0.0\n",
    "    for j in range(interactions):\n",
    "        batch_xs, batch_ys = next_batch(j*batch_size, X_train,y_train,batch_size)\n",
    "        cost_sup,cost_unsup = mixDbn.partial_fit(batch_xs,batch_ys)\n",
    "        cost_sup_ += cost_sup\n",
    "        cost_unsup_ += cost_unsup\n",
    "    if i==0:\n",
    "        print(i,'cost_sup_: ',cost_sup_,'cost_unsup_',cost_unsup_)\n",
    "print(i,'cost_sup_: ',cost_sup_,'cost_unsup_',cost_unsup_)\n",
    "\n",
    "mixDbn.save_weights('./data-models/mixDbn4.chp')"
   ]
  },
  {
   "cell_type": "code",
   "execution_count": null,
   "metadata": {
    "collapsed": false
   },
   "outputs": [],
   "source": [
    "\n",
    "#mixDbn.load_weights('./data-models/mixDbn.chp')\n",
    "y_true, y_pred = np.argmax(y_test, axis=1), mixDbn.predict(X_test) # Get our predictions\n",
    "print(classification_report(y_true, y_pred)) # Classification on each digit"
   ]
  },
  {
   "cell_type": "code",
   "execution_count": null,
   "metadata": {
    "collapsed": true
   },
   "outputs": [],
   "source": [
    "# read test data from CSV file \n",
    "datatest = pd.read_csv('./kaggle-mnist/test.csv')\n",
    "imagestest = datatest.iloc[:,:].values\n",
    "imagestest = imagestest.astype(np.float)\n",
    "imagestest = np.multiply(imagestest, 1.0 / 255.0)\n",
    "saveFileForSubmission(mixDbn.predict(imagestest),custonFileName=\"custoMixDbn4.csv\")"
   ]
  },
  {
   "cell_type": "markdown",
   "metadata": {},
   "source": [
    "Autoencoder\n",
    "--------"
   ]
  },
  {
   "cell_type": "code",
   "execution_count": 16,
   "metadata": {
    "collapsed": true
   },
   "outputs": [],
   "source": [
    "\n",
    "# Autoencoder\n",
    "mixDbn = DeepMixNN(784,10, [1000, 500,250,2],  [['rbmw1', 'rbmhb1'],\n",
    "                                                ['rbmw2', 'rbmhb2'],\n",
    "                                                ['rbmw3', 'rbmhb3'],\n",
    "                                                 ['rbmw4', 'rbmhb4']],\n",
    "                                           finetune_learning_rate=0.3,keep_prob=0.9)\n",
    "# Load RBM weights to Autoencoder\n",
    "mixDbn.load_rbm_weights('./data-models/rbmw1.chp', ['rbmw1', 'rbmhb1'], 0)\n",
    "mixDbn.load_rbm_weights('./data-models/rbmw2.chp', ['rbmw2', 'rbmhb2'], 1)\n",
    "mixDbn.load_rbm_weights('./data-models/rbmw3.chp', ['rbmw3', 'rbmhb3'], 2)\n",
    "mixDbn.load_rbm_weights('./data-models/rbmw4.chp', ['rbmw4', 'rbmhb4'], 3)\n"
   ]
  },
  {
   "cell_type": "code",
   "execution_count": null,
   "metadata": {
    "collapsed": false
   },
   "outputs": [
    {
     "name": "stderr",
     "output_type": "stream",
     "text": [
      "\r",
      "  0%|          | 0/200 [00:00<?, ?it/s]"
     ]
    },
    {
     "name": "stdout",
     "output_type": "stream",
     "text": [
      "mixDbn\n"
     ]
    },
    {
     "name": "stderr",
     "output_type": "stream",
     "text": [
      "\r",
      "  0%|          | 1/200 [00:17<56:24, 17.01s/it]"
     ]
    },
    {
     "name": "stdout",
     "output_type": "stream",
     "text": [
      "0 cost_sup_:  2375.7195102 cost_unsup_ 376.171497583\n"
     ]
    },
    {
     "name": "stderr",
     "output_type": "stream",
     "text": [
      "  2%|▎         | 5/200 [01:24<54:47, 16.86s/it]"
     ]
    }
   ],
   "source": [
    "# Train DBN\n",
    "batch_size =30\n",
    "epoch = 200\n",
    "X_train, X_test, y_train, y_test = train_test_split(images, labels, test_size=0.1, random_state=42)\n",
    "\n",
    "interactions = int(math.floor(X_train.shape[0]/batch_size))\n",
    "print_times = 1\n",
    "print('mixDbn')\n",
    "for i in tqdm(range(epoch)):\n",
    "    cost_unsup_ = 0.0\n",
    "    cost_sup_ = 0.0\n",
    "    for j in range(interactions):\n",
    "        batch_xs, batch_ys = next_batch(j*batch_size, X_train,y_train,batch_size)\n",
    "        cost_sup,cost_unsup = mixDbn.partial_fit(batch_xs,batch_ys)\n",
    "        cost_sup_ += cost_sup\n",
    "        cost_unsup_ += cost_unsup\n",
    "    if i==0:\n",
    "        print(i,'cost_sup_: ',cost_sup_,'cost_unsup_',cost_unsup_)\n",
    "print(i,'cost_sup_: ',cost_sup_,'cost_unsup_',cost_unsup_)\n",
    "\n",
    "mixDbn.save_weights('./data-models/mixDbn2.chp')\n"
   ]
  },
  {
   "cell_type": "code",
   "execution_count": null,
   "metadata": {
    "collapsed": false
   },
   "outputs": [],
   "source": [
    "colors= [\"chartreuse\",\"crimson\",\"cyan\",\"darkblue\",\"darkmagenta\",\"darkorange\",\"darkviolet\",\"fuchsia\",\"green\",\"yellow\"]\n",
    "# colors = plt.cm.Spectral(np.linspace(0, 1, 10))\n",
    "\n",
    "X_transformed = mixDbn.transform(X_test)\n",
    "y_test_int = np.argmax(y_test, axis=1)\n",
    "\n",
    "plt.figure(figsize=(8, 8))\n",
    "for c, i,target_name in zip(colors, range(10),map(lambda x:str(x),range(10))):\n",
    "    plt.scatter(X_transformed[y_test_int == i, 0], X_transformed[y_test_int == i, 1],\n",
    "                c=c, label=target_name)\n",
    "    plt.title(\"Digits\")\n",
    "plt.legend(loc=\"best\")"
   ]
  },
  {
   "cell_type": "code",
   "execution_count": null,
   "metadata": {
    "collapsed": false
   },
   "outputs": [],
   "source": [
    "# The silhouette_score gives the average value for all the samples.\n",
    "# This gives a perspective into the density and separation of the formed\n",
    "# clusters\n",
    "\n",
    "silhouette_plot.plotResult(X_transformed,y_test_int)\n"
   ]
  },
  {
   "cell_type": "code",
   "execution_count": 10,
   "metadata": {
    "collapsed": false
   },
   "outputs": [
    {
     "name": "stderr",
     "output_type": "stream",
     "text": [
      "\r",
      "  0%|          | 0/100 [00:00<?, ?it/s]"
     ]
    },
    {
     "name": "stdout",
     "output_type": "stream",
     "text": [
      "mixDbn\n"
     ]
    },
    {
     "name": "stderr",
     "output_type": "stream",
     "text": [
      "\r",
      "  1%|          | 1/100 [00:17<28:03, 17.01s/it]"
     ]
    },
    {
     "name": "stdout",
     "output_type": "stream",
     "text": [
      "0 cost_sup_:  1816.48763061 cost_unsup_ 378.359080583\n"
     ]
    },
    {
     "name": "stderr",
     "output_type": "stream",
     "text": [
      "\r",
      "  2%|▏         | 2/100 [00:33<27:42, 16.96s/it]"
     ]
    },
    {
     "name": "stdout",
     "output_type": "stream",
     "text": [
      "1 cost_sup_:  1598.1307807 cost_unsup_ 341.866290107\n"
     ]
    },
    {
     "name": "stderr",
     "output_type": "stream",
     "text": [
      "\r",
      "  3%|▎         | 3/100 [00:50<27:22, 16.93s/it]"
     ]
    },
    {
     "name": "stdout",
     "output_type": "stream",
     "text": [
      "2 cost_sup_:  1541.00766426 cost_unsup_ 334.884085342\n"
     ]
    },
    {
     "name": "stderr",
     "output_type": "stream",
     "text": [
      "\r",
      "  4%|▍         | 4/100 [01:07<27:03, 16.91s/it]"
     ]
    },
    {
     "name": "stdout",
     "output_type": "stream",
     "text": [
      "3 cost_sup_:  1509.34523559 cost_unsup_ 333.171330839\n"
     ]
    },
    {
     "name": "stderr",
     "output_type": "stream",
     "text": [
      "\r",
      "  5%|▌         | 5/100 [01:24<26:44, 16.89s/it]"
     ]
    },
    {
     "name": "stdout",
     "output_type": "stream",
     "text": [
      "4 cost_sup_:  1487.95037162 cost_unsup_ 331.648545131\n"
     ]
    },
    {
     "name": "stderr",
     "output_type": "stream",
     "text": [
      "\r",
      "  6%|▌         | 6/100 [01:41<26:25, 16.86s/it]"
     ]
    },
    {
     "name": "stdout",
     "output_type": "stream",
     "text": [
      "5 cost_sup_:  1478.29260522 cost_unsup_ 330.250277564\n"
     ]
    },
    {
     "name": "stderr",
     "output_type": "stream",
     "text": [
      "\r",
      "  7%|▋         | 7/100 [01:58<26:07, 16.86s/it]"
     ]
    },
    {
     "name": "stdout",
     "output_type": "stream",
     "text": [
      "6 cost_sup_:  1466.91923904 cost_unsup_ 328.937122002\n"
     ]
    },
    {
     "name": "stderr",
     "output_type": "stream",
     "text": [
      "\r",
      "  8%|▊         | 8/100 [02:14<25:51, 16.86s/it]"
     ]
    },
    {
     "name": "stdout",
     "output_type": "stream",
     "text": [
      "7 cost_sup_:  1454.25270373 cost_unsup_ 327.776389465\n"
     ]
    },
    {
     "name": "stderr",
     "output_type": "stream",
     "text": [
      "\r",
      "  9%|▉         | 9/100 [02:31<25:35, 16.87s/it]"
     ]
    },
    {
     "name": "stdout",
     "output_type": "stream",
     "text": [
      "8 cost_sup_:  1447.4335146 cost_unsup_ 326.678321064\n"
     ]
    },
    {
     "name": "stderr",
     "output_type": "stream",
     "text": [
      "\r",
      " 10%|█         | 10/100 [02:48<25:21, 16.90s/it]"
     ]
    },
    {
     "name": "stdout",
     "output_type": "stream",
     "text": [
      "9 cost_sup_:  1439.2157312 cost_unsup_ 325.637077019\n"
     ]
    },
    {
     "name": "stderr",
     "output_type": "stream",
     "text": [
      "\r",
      " 11%|█         | 11/100 [03:05<25:03, 16.90s/it]"
     ]
    },
    {
     "name": "stdout",
     "output_type": "stream",
     "text": [
      "10 cost_sup_:  1434.97371387 cost_unsup_ 324.660074189\n"
     ]
    },
    {
     "name": "stderr",
     "output_type": "stream",
     "text": [
      "\r",
      " 12%|█▏        | 12/100 [03:22<24:46, 16.89s/it]"
     ]
    },
    {
     "name": "stdout",
     "output_type": "stream",
     "text": [
      "11 cost_sup_:  1426.36609429 cost_unsup_ 323.734982833\n"
     ]
    },
    {
     "name": "stderr",
     "output_type": "stream",
     "text": [
      "\r",
      " 13%|█▎        | 13/100 [03:39<24:27, 16.87s/it]"
     ]
    },
    {
     "name": "stdout",
     "output_type": "stream",
     "text": [
      "12 cost_sup_:  1416.79701245 cost_unsup_ 322.882052571\n"
     ]
    },
    {
     "name": "stderr",
     "output_type": "stream",
     "text": [
      "\r",
      " 14%|█▍        | 14/100 [03:56<24:10, 16.87s/it]"
     ]
    },
    {
     "name": "stdout",
     "output_type": "stream",
     "text": [
      "13 cost_sup_:  1389.54472131 cost_unsup_ 322.206034139\n"
     ]
    },
    {
     "name": "stderr",
     "output_type": "stream",
     "text": [
      "\r",
      " 15%|█▌        | 15/100 [04:13<23:53, 16.86s/it]"
     ]
    },
    {
     "name": "stdout",
     "output_type": "stream",
     "text": [
      "14 cost_sup_:  1325.93859845 cost_unsup_ 321.675725624\n"
     ]
    },
    {
     "name": "stderr",
     "output_type": "stream",
     "text": [
      "\r",
      " 16%|█▌        | 16/100 [04:29<23:36, 16.87s/it]"
     ]
    },
    {
     "name": "stdout",
     "output_type": "stream",
     "text": [
      "15 cost_sup_:  1266.29272401 cost_unsup_ 321.066286445\n"
     ]
    },
    {
     "name": "stderr",
     "output_type": "stream",
     "text": [
      "\r",
      " 17%|█▋        | 17/100 [04:46<23:18, 16.85s/it]"
     ]
    },
    {
     "name": "stdout",
     "output_type": "stream",
     "text": [
      "16 cost_sup_:  1219.95608938 cost_unsup_ 320.441371232\n"
     ]
    },
    {
     "name": "stderr",
     "output_type": "stream",
     "text": [
      "\r",
      " 18%|█▊        | 18/100 [05:03<23:02, 16.86s/it]"
     ]
    },
    {
     "name": "stdout",
     "output_type": "stream",
     "text": [
      "17 cost_sup_:  1185.60438323 cost_unsup_ 319.878444865\n"
     ]
    },
    {
     "name": "stderr",
     "output_type": "stream",
     "text": [
      "\r",
      " 19%|█▉        | 19/100 [05:20<22:47, 16.88s/it]"
     ]
    },
    {
     "name": "stdout",
     "output_type": "stream",
     "text": [
      "18 cost_sup_:  1158.90622383 cost_unsup_ 319.389762715\n"
     ]
    },
    {
     "name": "stderr",
     "output_type": "stream",
     "text": [
      "\r",
      " 20%|██        | 20/100 [05:37<22:29, 16.87s/it]"
     ]
    },
    {
     "name": "stdout",
     "output_type": "stream",
     "text": [
      "19 cost_sup_:  1137.59417009 cost_unsup_ 318.890914157\n"
     ]
    },
    {
     "name": "stderr",
     "output_type": "stream",
     "text": [
      "\r",
      " 21%|██        | 21/100 [05:54<22:13, 16.88s/it]"
     ]
    },
    {
     "name": "stdout",
     "output_type": "stream",
     "text": [
      "20 cost_sup_:  1120.26829243 cost_unsup_ 318.467778713\n"
     ]
    },
    {
     "name": "stderr",
     "output_type": "stream",
     "text": [
      "\r",
      " 22%|██▏       | 22/100 [06:11<21:55, 16.87s/it]"
     ]
    },
    {
     "name": "stdout",
     "output_type": "stream",
     "text": [
      "21 cost_sup_:  1102.95768166 cost_unsup_ 318.102296576\n"
     ]
    },
    {
     "name": "stderr",
     "output_type": "stream",
     "text": [
      "\r",
      " 23%|██▎       | 23/100 [06:28<21:38, 16.86s/it]"
     ]
    },
    {
     "name": "stdout",
     "output_type": "stream",
     "text": [
      "22 cost_sup_:  1091.48335224 cost_unsup_ 317.789170906\n"
     ]
    },
    {
     "name": "stderr",
     "output_type": "stream",
     "text": [
      "\r",
      " 24%|██▍       | 24/100 [06:44<21:21, 16.86s/it]"
     ]
    },
    {
     "name": "stdout",
     "output_type": "stream",
     "text": [
      "23 cost_sup_:  1079.11438626 cost_unsup_ 317.533260524\n"
     ]
    },
    {
     "name": "stderr",
     "output_type": "stream",
     "text": [
      "\r",
      " 25%|██▌       | 25/100 [07:01<21:04, 16.86s/it]"
     ]
    },
    {
     "name": "stdout",
     "output_type": "stream",
     "text": [
      "24 cost_sup_:  1069.02630019 cost_unsup_ 317.267086446\n"
     ]
    },
    {
     "name": "stderr",
     "output_type": "stream",
     "text": [
      "\r",
      " 26%|██▌       | 26/100 [07:18<20:47, 16.86s/it]"
     ]
    },
    {
     "name": "stdout",
     "output_type": "stream",
     "text": [
      "25 cost_sup_:  1060.68050808 cost_unsup_ 317.05484958\n"
     ]
    },
    {
     "name": "stderr",
     "output_type": "stream",
     "text": [
      "\r",
      " 27%|██▋       | 27/100 [07:35<20:30, 16.86s/it]"
     ]
    },
    {
     "name": "stdout",
     "output_type": "stream",
     "text": [
      "26 cost_sup_:  1050.33629572 cost_unsup_ 316.863625675\n"
     ]
    },
    {
     "name": "stderr",
     "output_type": "stream",
     "text": [
      "\r",
      " 28%|██▊       | 28/100 [07:52<20:13, 16.86s/it]"
     ]
    },
    {
     "name": "stdout",
     "output_type": "stream",
     "text": [
      "27 cost_sup_:  1043.9406628 cost_unsup_ 316.703720018\n"
     ]
    },
    {
     "name": "stderr",
     "output_type": "stream",
     "text": [
      "\r",
      " 29%|██▉       | 29/100 [08:09<19:57, 16.86s/it]"
     ]
    },
    {
     "name": "stdout",
     "output_type": "stream",
     "text": [
      "28 cost_sup_:  1037.887155 cost_unsup_ 316.517105296\n"
     ]
    },
    {
     "name": "stderr",
     "output_type": "stream",
     "text": [
      "\r",
      " 30%|███       | 30/100 [08:26<19:39, 16.85s/it]"
     ]
    },
    {
     "name": "stdout",
     "output_type": "stream",
     "text": [
      "29 cost_sup_:  1029.70963508 cost_unsup_ 316.402950183\n"
     ]
    },
    {
     "name": "stderr",
     "output_type": "stream",
     "text": [
      "\r",
      " 31%|███       | 31/100 [08:42<19:23, 16.86s/it]"
     ]
    },
    {
     "name": "stdout",
     "output_type": "stream",
     "text": [
      "30 cost_sup_:  1022.88735276 cost_unsup_ 316.300540179\n"
     ]
    },
    {
     "name": "stderr",
     "output_type": "stream",
     "text": [
      "\r",
      " 32%|███▏      | 32/100 [08:59<19:06, 16.86s/it]"
     ]
    },
    {
     "name": "stdout",
     "output_type": "stream",
     "text": [
      "31 cost_sup_:  1018.30973631 cost_unsup_ 316.203974098\n"
     ]
    },
    {
     "name": "stderr",
     "output_type": "stream",
     "text": [
      "\r",
      " 33%|███▎      | 33/100 [09:16<18:48, 16.84s/it]"
     ]
    },
    {
     "name": "stdout",
     "output_type": "stream",
     "text": [
      "32 cost_sup_:  1014.58739841 cost_unsup_ 316.107165575\n"
     ]
    },
    {
     "name": "stderr",
     "output_type": "stream",
     "text": [
      "\r",
      " 34%|███▍      | 34/100 [09:33<18:32, 16.85s/it]"
     ]
    },
    {
     "name": "stdout",
     "output_type": "stream",
     "text": [
      "33 cost_sup_:  1009.32091635 cost_unsup_ 316.018421277\n"
     ]
    },
    {
     "name": "stderr",
     "output_type": "stream",
     "text": [
      "\r",
      " 35%|███▌      | 35/100 [09:50<18:15, 16.85s/it]"
     ]
    },
    {
     "name": "stdout",
     "output_type": "stream",
     "text": [
      "34 cost_sup_:  1003.36099082 cost_unsup_ 315.907181978\n"
     ]
    },
    {
     "name": "stderr",
     "output_type": "stream",
     "text": [
      "\r",
      " 36%|███▌      | 36/100 [10:07<17:58, 16.85s/it]"
     ]
    },
    {
     "name": "stdout",
     "output_type": "stream",
     "text": [
      "35 cost_sup_:  1000.07459897 cost_unsup_ 315.821145728\n"
     ]
    },
    {
     "name": "stderr",
     "output_type": "stream",
     "text": [
      "\r",
      " 37%|███▋      | 37/100 [10:24<17:42, 16.86s/it]"
     ]
    },
    {
     "name": "stdout",
     "output_type": "stream",
     "text": [
      "36 cost_sup_:  995.61676389 cost_unsup_ 315.765975565\n"
     ]
    },
    {
     "name": "stderr",
     "output_type": "stream",
     "text": [
      "\r",
      " 38%|███▊      | 38/100 [10:40<17:25, 16.86s/it]"
     ]
    },
    {
     "name": "stdout",
     "output_type": "stream",
     "text": [
      "37 cost_sup_:  990.156903088 cost_unsup_ 315.678143546\n"
     ]
    },
    {
     "name": "stderr",
     "output_type": "stream",
     "text": [
      "\r",
      " 39%|███▉      | 39/100 [10:57<17:08, 16.86s/it]"
     ]
    },
    {
     "name": "stdout",
     "output_type": "stream",
     "text": [
      "38 cost_sup_:  986.594838977 cost_unsup_ 315.615161285\n"
     ]
    },
    {
     "name": "stderr",
     "output_type": "stream",
     "text": [
      "\r",
      " 40%|████      | 40/100 [11:14<16:51, 16.85s/it]"
     ]
    },
    {
     "name": "stdout",
     "output_type": "stream",
     "text": [
      "39 cost_sup_:  981.750215113 cost_unsup_ 315.562716424\n"
     ]
    },
    {
     "name": "stderr",
     "output_type": "stream",
     "text": [
      "\r",
      " 41%|████      | 41/100 [11:31<16:34, 16.85s/it]"
     ]
    },
    {
     "name": "stdout",
     "output_type": "stream",
     "text": [
      "40 cost_sup_:  979.098982811 cost_unsup_ 315.494011045\n"
     ]
    },
    {
     "name": "stderr",
     "output_type": "stream",
     "text": [
      "\r",
      " 42%|████▏     | 42/100 [11:48<16:18, 16.86s/it]"
     ]
    },
    {
     "name": "stdout",
     "output_type": "stream",
     "text": [
      "41 cost_sup_:  977.009008348 cost_unsup_ 315.421802893\n"
     ]
    },
    {
     "name": "stderr",
     "output_type": "stream",
     "text": [
      "\r",
      " 43%|████▎     | 43/100 [12:05<16:00, 16.86s/it]"
     ]
    },
    {
     "name": "stdout",
     "output_type": "stream",
     "text": [
      "42 cost_sup_:  973.475023329 cost_unsup_ 315.378329873\n"
     ]
    },
    {
     "name": "stderr",
     "output_type": "stream",
     "text": [
      "\r",
      " 44%|████▍     | 44/100 [12:22<15:44, 16.86s/it]"
     ]
    },
    {
     "name": "stdout",
     "output_type": "stream",
     "text": [
      "43 cost_sup_:  973.170716643 cost_unsup_ 315.321591005\n"
     ]
    },
    {
     "name": "stderr",
     "output_type": "stream",
     "text": [
      "\r",
      " 45%|████▌     | 45/100 [12:38<15:26, 16.85s/it]"
     ]
    },
    {
     "name": "stdout",
     "output_type": "stream",
     "text": [
      "44 cost_sup_:  970.323165953 cost_unsup_ 315.288121432\n"
     ]
    },
    {
     "name": "stderr",
     "output_type": "stream",
     "text": [
      "\r",
      " 46%|████▌     | 46/100 [12:55<15:09, 16.85s/it]"
     ]
    },
    {
     "name": "stdout",
     "output_type": "stream",
     "text": [
      "45 cost_sup_:  968.210406184 cost_unsup_ 315.21099256\n"
     ]
    },
    {
     "name": "stderr",
     "output_type": "stream",
     "text": [
      "\r",
      " 47%|████▋     | 47/100 [13:12<14:53, 16.85s/it]"
     ]
    },
    {
     "name": "stdout",
     "output_type": "stream",
     "text": [
      "46 cost_sup_:  964.227778912 cost_unsup_ 315.155371994\n"
     ]
    },
    {
     "name": "stderr",
     "output_type": "stream",
     "text": [
      "\r",
      " 48%|████▊     | 48/100 [13:29<14:35, 16.84s/it]"
     ]
    },
    {
     "name": "stdout",
     "output_type": "stream",
     "text": [
      "47 cost_sup_:  961.871156752 cost_unsup_ 315.106305555\n"
     ]
    },
    {
     "name": "stderr",
     "output_type": "stream",
     "text": [
      "\r",
      " 49%|████▉     | 49/100 [13:46<14:18, 16.84s/it]"
     ]
    },
    {
     "name": "stdout",
     "output_type": "stream",
     "text": [
      "48 cost_sup_:  960.374107361 cost_unsup_ 315.07107009\n"
     ]
    },
    {
     "name": "stderr",
     "output_type": "stream",
     "text": [
      "\r",
      " 50%|█████     | 50/100 [14:03<14:02, 16.84s/it]"
     ]
    },
    {
     "name": "stdout",
     "output_type": "stream",
     "text": [
      "49 cost_sup_:  958.103835523 cost_unsup_ 315.000671297\n"
     ]
    },
    {
     "name": "stderr",
     "output_type": "stream",
     "text": [
      "\r",
      " 51%|█████     | 51/100 [14:19<13:45, 16.84s/it]"
     ]
    },
    {
     "name": "stdout",
     "output_type": "stream",
     "text": [
      "50 cost_sup_:  957.026032209 cost_unsup_ 314.961531892\n"
     ]
    },
    {
     "name": "stderr",
     "output_type": "stream",
     "text": [
      "\r",
      " 52%|█████▏    | 52/100 [14:36<13:27, 16.83s/it]"
     ]
    },
    {
     "name": "stdout",
     "output_type": "stream",
     "text": [
      "51 cost_sup_:  954.977763891 cost_unsup_ 314.900391847\n"
     ]
    },
    {
     "name": "stderr",
     "output_type": "stream",
     "text": [
      "\r",
      " 53%|█████▎    | 53/100 [14:53<13:11, 16.84s/it]"
     ]
    },
    {
     "name": "stdout",
     "output_type": "stream",
     "text": [
      "52 cost_sup_:  952.801433325 cost_unsup_ 314.831221059\n"
     ]
    },
    {
     "name": "stderr",
     "output_type": "stream",
     "text": [
      "\r",
      " 54%|█████▍    | 54/100 [15:10<12:55, 16.85s/it]"
     ]
    },
    {
     "name": "stdout",
     "output_type": "stream",
     "text": [
      "53 cost_sup_:  952.326650321 cost_unsup_ 314.773114413\n"
     ]
    },
    {
     "name": "stderr",
     "output_type": "stream",
     "text": [
      "\r",
      " 55%|█████▌    | 55/100 [15:27<12:37, 16.84s/it]"
     ]
    },
    {
     "name": "stdout",
     "output_type": "stream",
     "text": [
      "54 cost_sup_:  949.289969802 cost_unsup_ 314.754668102\n"
     ]
    },
    {
     "name": "stderr",
     "output_type": "stream",
     "text": [
      "\r",
      " 56%|█████▌    | 56/100 [15:44<12:20, 16.83s/it]"
     ]
    },
    {
     "name": "stdout",
     "output_type": "stream",
     "text": [
      "55 cost_sup_:  948.477599263 cost_unsup_ 314.701333836\n"
     ]
    },
    {
     "name": "stderr",
     "output_type": "stream",
     "text": [
      "\r",
      " 57%|█████▋    | 57/100 [16:00<12:03, 16.84s/it]"
     ]
    },
    {
     "name": "stdout",
     "output_type": "stream",
     "text": [
      "56 cost_sup_:  948.96340549 cost_unsup_ 314.646345198\n"
     ]
    },
    {
     "name": "stderr",
     "output_type": "stream",
     "text": [
      "\r",
      " 58%|█████▊    | 58/100 [16:17<11:47, 16.85s/it]"
     ]
    },
    {
     "name": "stdout",
     "output_type": "stream",
     "text": [
      "57 cost_sup_:  947.766022563 cost_unsup_ 314.597564831\n"
     ]
    },
    {
     "name": "stderr",
     "output_type": "stream",
     "text": [
      "\r",
      " 59%|█████▉    | 59/100 [16:34<11:30, 16.85s/it]"
     ]
    },
    {
     "name": "stdout",
     "output_type": "stream",
     "text": [
      "58 cost_sup_:  945.829241455 cost_unsup_ 314.553395927\n"
     ]
    },
    {
     "name": "stderr",
     "output_type": "stream",
     "text": [
      "\r",
      " 60%|██████    | 60/100 [16:51<11:13, 16.83s/it]"
     ]
    },
    {
     "name": "stdout",
     "output_type": "stream",
     "text": [
      "59 cost_sup_:  942.517971516 cost_unsup_ 314.505246609\n"
     ]
    },
    {
     "name": "stderr",
     "output_type": "stream",
     "text": [
      "\r",
      " 61%|██████    | 61/100 [17:08<10:56, 16.84s/it]"
     ]
    },
    {
     "name": "stdout",
     "output_type": "stream",
     "text": [
      "60 cost_sup_:  940.441944361 cost_unsup_ 314.455493167\n"
     ]
    },
    {
     "name": "stderr",
     "output_type": "stream",
     "text": [
      "\r",
      " 62%|██████▏   | 62/100 [17:25<10:39, 16.83s/it]"
     ]
    },
    {
     "name": "stdout",
     "output_type": "stream",
     "text": [
      "61 cost_sup_:  939.586394548 cost_unsup_ 314.405512705\n"
     ]
    },
    {
     "name": "stderr",
     "output_type": "stream",
     "text": [
      "\r",
      " 63%|██████▎   | 63/100 [17:41<10:22, 16.82s/it]"
     ]
    },
    {
     "name": "stdout",
     "output_type": "stream",
     "text": [
      "62 cost_sup_:  937.552439749 cost_unsup_ 314.34759213\n"
     ]
    },
    {
     "name": "stderr",
     "output_type": "stream",
     "text": [
      "\r",
      " 64%|██████▍   | 64/100 [17:58<10:06, 16.85s/it]"
     ]
    },
    {
     "name": "stdout",
     "output_type": "stream",
     "text": [
      "63 cost_sup_:  934.238950193 cost_unsup_ 314.299573272\n"
     ]
    },
    {
     "name": "stderr",
     "output_type": "stream",
     "text": [
      "\r",
      " 65%|██████▌   | 65/100 [18:15<09:50, 16.86s/it]"
     ]
    },
    {
     "name": "stdout",
     "output_type": "stream",
     "text": [
      "64 cost_sup_:  935.541204333 cost_unsup_ 314.223844349\n"
     ]
    },
    {
     "name": "stderr",
     "output_type": "stream",
     "text": [
      "\r",
      " 66%|██████▌   | 66/100 [18:32<09:33, 16.87s/it]"
     ]
    },
    {
     "name": "stdout",
     "output_type": "stream",
     "text": [
      "65 cost_sup_:  932.408416688 cost_unsup_ 314.16948159\n"
     ]
    },
    {
     "name": "stderr",
     "output_type": "stream",
     "text": [
      "\r",
      " 67%|██████▋   | 67/100 [18:49<09:16, 16.86s/it]"
     ]
    },
    {
     "name": "stdout",
     "output_type": "stream",
     "text": [
      "66 cost_sup_:  930.420597553 cost_unsup_ 314.138958171\n"
     ]
    },
    {
     "name": "stderr",
     "output_type": "stream",
     "text": [
      "\r",
      " 68%|██████▊   | 68/100 [19:06<08:59, 16.85s/it]"
     ]
    },
    {
     "name": "stdout",
     "output_type": "stream",
     "text": [
      "67 cost_sup_:  929.597689748 cost_unsup_ 314.077603251\n"
     ]
    },
    {
     "name": "stderr",
     "output_type": "stream",
     "text": [
      "\r",
      " 69%|██████▉   | 69/100 [19:23<08:42, 16.85s/it]"
     ]
    },
    {
     "name": "stdout",
     "output_type": "stream",
     "text": [
      "68 cost_sup_:  928.529064238 cost_unsup_ 314.042410433\n"
     ]
    },
    {
     "name": "stderr",
     "output_type": "stream",
     "text": [
      "\r",
      " 70%|███████   | 70/100 [19:39<08:25, 16.84s/it]"
     ]
    },
    {
     "name": "stdout",
     "output_type": "stream",
     "text": [
      "69 cost_sup_:  927.194420516 cost_unsup_ 313.969594702\n"
     ]
    },
    {
     "name": "stderr",
     "output_type": "stream",
     "text": [
      "\r",
      " 71%|███████   | 71/100 [19:56<08:08, 16.83s/it]"
     ]
    },
    {
     "name": "stdout",
     "output_type": "stream",
     "text": [
      "70 cost_sup_:  926.714504123 cost_unsup_ 313.904679313\n"
     ]
    },
    {
     "name": "stderr",
     "output_type": "stream",
     "text": [
      "\r",
      " 72%|███████▏  | 72/100 [20:13<07:51, 16.83s/it]"
     ]
    },
    {
     "name": "stdout",
     "output_type": "stream",
     "text": [
      "71 cost_sup_:  934.998931527 cost_unsup_ 313.827634782\n"
     ]
    },
    {
     "name": "stderr",
     "output_type": "stream",
     "text": [
      "\r",
      " 73%|███████▎  | 73/100 [20:30<07:34, 16.84s/it]"
     ]
    },
    {
     "name": "stdout",
     "output_type": "stream",
     "text": [
      "72 cost_sup_:  930.38652873 cost_unsup_ 313.76276724\n"
     ]
    },
    {
     "name": "stderr",
     "output_type": "stream",
     "text": [
      "\r",
      " 74%|███████▍  | 74/100 [20:47<07:18, 16.85s/it]"
     ]
    },
    {
     "name": "stdout",
     "output_type": "stream",
     "text": [
      "73 cost_sup_:  926.817364573 cost_unsup_ 313.744094729\n"
     ]
    },
    {
     "name": "stderr",
     "output_type": "stream",
     "text": [
      "\r",
      " 75%|███████▌  | 75/100 [21:04<07:01, 16.85s/it]"
     ]
    },
    {
     "name": "stdout",
     "output_type": "stream",
     "text": [
      "74 cost_sup_:  924.103063166 cost_unsup_ 313.67825754\n"
     ]
    },
    {
     "name": "stderr",
     "output_type": "stream",
     "text": [
      "\r",
      " 76%|███████▌  | 76/100 [21:21<06:44, 16.86s/it]"
     ]
    },
    {
     "name": "stdout",
     "output_type": "stream",
     "text": [
      "75 cost_sup_:  923.842715561 cost_unsup_ 313.637117013\n"
     ]
    },
    {
     "name": "stderr",
     "output_type": "stream",
     "text": [
      "\r",
      " 77%|███████▋  | 77/100 [21:37<06:27, 16.85s/it]"
     ]
    },
    {
     "name": "stdout",
     "output_type": "stream",
     "text": [
      "76 cost_sup_:  921.890701592 cost_unsup_ 313.589128479\n"
     ]
    },
    {
     "name": "stderr",
     "output_type": "stream",
     "text": [
      "\r",
      " 78%|███████▊  | 78/100 [21:54<06:10, 16.83s/it]"
     ]
    },
    {
     "name": "stdout",
     "output_type": "stream",
     "text": [
      "77 cost_sup_:  923.507840276 cost_unsup_ 313.518920034\n"
     ]
    },
    {
     "name": "stderr",
     "output_type": "stream",
     "text": [
      "\r",
      " 79%|███████▉  | 79/100 [22:11<05:53, 16.83s/it]"
     ]
    },
    {
     "name": "stdout",
     "output_type": "stream",
     "text": [
      "78 cost_sup_:  921.521469176 cost_unsup_ 313.476026803\n"
     ]
    },
    {
     "name": "stderr",
     "output_type": "stream",
     "text": [
      "\r",
      " 80%|████████  | 80/100 [22:28<05:36, 16.84s/it]"
     ]
    },
    {
     "name": "stdout",
     "output_type": "stream",
     "text": [
      "79 cost_sup_:  918.689685524 cost_unsup_ 313.420531347\n"
     ]
    },
    {
     "name": "stderr",
     "output_type": "stream",
     "text": [
      "\r",
      " 81%|████████  | 81/100 [22:45<05:19, 16.83s/it]"
     ]
    },
    {
     "name": "stdout",
     "output_type": "stream",
     "text": [
      "80 cost_sup_:  919.067289889 cost_unsup_ 313.374990791\n"
     ]
    },
    {
     "name": "stderr",
     "output_type": "stream",
     "text": [
      "\r",
      " 82%|████████▏ | 82/100 [23:02<05:03, 16.84s/it]"
     ]
    },
    {
     "name": "stdout",
     "output_type": "stream",
     "text": [
      "81 cost_sup_:  917.761090159 cost_unsup_ 313.321756527\n"
     ]
    },
    {
     "name": "stderr",
     "output_type": "stream",
     "text": [
      "\r",
      " 83%|████████▎ | 83/100 [23:18<04:46, 16.85s/it]"
     ]
    },
    {
     "name": "stdout",
     "output_type": "stream",
     "text": [
      "82 cost_sup_:  917.464155614 cost_unsup_ 313.289116949\n"
     ]
    },
    {
     "name": "stderr",
     "output_type": "stream",
     "text": [
      "\r",
      " 84%|████████▍ | 84/100 [23:35<04:29, 16.86s/it]"
     ]
    },
    {
     "name": "stdout",
     "output_type": "stream",
     "text": [
      "83 cost_sup_:  915.58563596 cost_unsup_ 313.232324764\n"
     ]
    },
    {
     "name": "stderr",
     "output_type": "stream",
     "text": [
      "\r",
      " 85%|████████▌ | 85/100 [23:52<04:12, 16.86s/it]"
     ]
    },
    {
     "name": "stdout",
     "output_type": "stream",
     "text": [
      "84 cost_sup_:  914.657637 cost_unsup_ 313.175043195\n"
     ]
    },
    {
     "name": "stderr",
     "output_type": "stream",
     "text": [
      "\r",
      " 86%|████████▌ | 86/100 [24:09<03:56, 16.87s/it]"
     ]
    },
    {
     "name": "stdout",
     "output_type": "stream",
     "text": [
      "85 cost_sup_:  914.161789179 cost_unsup_ 313.128880098\n"
     ]
    },
    {
     "name": "stderr",
     "output_type": "stream",
     "text": [
      "\r",
      " 87%|████████▋ | 87/100 [24:26<03:39, 16.86s/it]"
     ]
    },
    {
     "name": "stdout",
     "output_type": "stream",
     "text": [
      "86 cost_sup_:  914.216958642 cost_unsup_ 313.05722256\n"
     ]
    },
    {
     "name": "stderr",
     "output_type": "stream",
     "text": [
      "\r",
      " 88%|████████▊ | 88/100 [24:43<03:22, 16.84s/it]"
     ]
    },
    {
     "name": "stdout",
     "output_type": "stream",
     "text": [
      "87 cost_sup_:  911.505283296 cost_unsup_ 312.988682568\n"
     ]
    },
    {
     "name": "stderr",
     "output_type": "stream",
     "text": [
      "\r",
      " 89%|████████▉ | 89/100 [25:00<03:05, 16.85s/it]"
     ]
    },
    {
     "name": "stdout",
     "output_type": "stream",
     "text": [
      "88 cost_sup_:  911.346384883 cost_unsup_ 312.958637878\n"
     ]
    },
    {
     "name": "stderr",
     "output_type": "stream",
     "text": [
      "\r",
      " 90%|█████████ | 90/100 [25:16<02:48, 16.84s/it]"
     ]
    },
    {
     "name": "stdout",
     "output_type": "stream",
     "text": [
      "89 cost_sup_:  911.958230138 cost_unsup_ 312.897788852\n"
     ]
    },
    {
     "name": "stderr",
     "output_type": "stream",
     "text": [
      "\r",
      " 91%|█████████ | 91/100 [25:33<02:31, 16.83s/it]"
     ]
    },
    {
     "name": "stdout",
     "output_type": "stream",
     "text": [
      "90 cost_sup_:  909.697689116 cost_unsup_ 312.859418347\n"
     ]
    },
    {
     "name": "stderr",
     "output_type": "stream",
     "text": [
      "\r",
      " 92%|█████████▏| 92/100 [25:50<02:14, 16.83s/it]"
     ]
    },
    {
     "name": "stdout",
     "output_type": "stream",
     "text": [
      "91 cost_sup_:  908.450052977 cost_unsup_ 312.802712411\n"
     ]
    },
    {
     "name": "stderr",
     "output_type": "stream",
     "text": [
      "\r",
      " 93%|█████████▎| 93/100 [26:07<01:57, 16.83s/it]"
     ]
    },
    {
     "name": "stdout",
     "output_type": "stream",
     "text": [
      "92 cost_sup_:  908.449140489 cost_unsup_ 312.758607835\n"
     ]
    },
    {
     "name": "stderr",
     "output_type": "stream",
     "text": [
      "\r",
      " 94%|█████████▍| 94/100 [26:24<01:41, 16.84s/it]"
     ]
    },
    {
     "name": "stdout",
     "output_type": "stream",
     "text": [
      "93 cost_sup_:  907.684488714 cost_unsup_ 312.72058329\n"
     ]
    },
    {
     "name": "stderr",
     "output_type": "stream",
     "text": [
      "\r",
      " 95%|█████████▌| 95/100 [26:41<01:24, 16.85s/it]"
     ]
    },
    {
     "name": "stdout",
     "output_type": "stream",
     "text": [
      "94 cost_sup_:  909.008212209 cost_unsup_ 312.6868494\n"
     ]
    },
    {
     "name": "stderr",
     "output_type": "stream",
     "text": [
      "\r",
      " 96%|█████████▌| 96/100 [26:57<01:07, 16.84s/it]"
     ]
    },
    {
     "name": "stdout",
     "output_type": "stream",
     "text": [
      "95 cost_sup_:  907.985374451 cost_unsup_ 312.66307278\n"
     ]
    },
    {
     "name": "stderr",
     "output_type": "stream",
     "text": [
      "\r",
      " 97%|█████████▋| 97/100 [27:14<00:50, 16.84s/it]"
     ]
    },
    {
     "name": "stdout",
     "output_type": "stream",
     "text": [
      "96 cost_sup_:  907.00309217 cost_unsup_ 312.622956529\n"
     ]
    },
    {
     "name": "stderr",
     "output_type": "stream",
     "text": [
      "\r",
      " 98%|█████████▊| 98/100 [27:31<00:33, 16.83s/it]"
     ]
    },
    {
     "name": "stdout",
     "output_type": "stream",
     "text": [
      "97 cost_sup_:  906.466899335 cost_unsup_ 312.593583688\n"
     ]
    },
    {
     "name": "stderr",
     "output_type": "stream",
     "text": [
      "\r",
      " 99%|█████████▉| 99/100 [27:48<00:16, 16.83s/it]"
     ]
    },
    {
     "name": "stdout",
     "output_type": "stream",
     "text": [
      "98 cost_sup_:  905.992897093 cost_unsup_ 312.608313769\n"
     ]
    },
    {
     "name": "stderr",
     "output_type": "stream",
     "text": [
      "\r",
      "100%|██████████| 100/100 [28:05<00:00, 16.83s/it]"
     ]
    },
    {
     "name": "stdout",
     "output_type": "stream",
     "text": [
      "99 cost_sup_:  903.574826419 cost_unsup_ 312.724914268\n"
     ]
    },
    {
     "name": "stderr",
     "output_type": "stream",
     "text": [
      "\n"
     ]
    }
   ],
   "source": [
    "\n",
    "\n",
    "# Autoencoder\n",
    "mixDbn = DeepMixNN(784,10, [1000, 500,250,2], [['daw1', 'dahb1'],\n",
    "                                                ['daw2', 'dahb2'],\n",
    "                                                ['daw3', 'dahb3'],\n",
    "                                                ['daw4', 'dahb4']],\n",
    "                                           finetune_learning_rate=0.3,keep_prob=0.9)\n",
    "# Load da weights to Autoencoder\n",
    "mixDbn.load_rbm_weights('./data-models/da1.chp', ['daw1', 'dahb1'], 0)\n",
    "mixDbn.load_rbm_weights('./data-models/da2.chp', ['daw2', 'dahb2'], 1)\n",
    "mixDbn.load_rbm_weights('./data-models/da3.chp', ['daw3', 'dahb3'], 2)\n",
    "mixDbn.load_rbm_weights('./data-models/da4.chp', ['daw4', 'dahb4'], 3)\n",
    "\n",
    "# Train DBN\n",
    "batch_size =30\n",
    "epoch = 100\n",
    "X_train, X_test, y_train, y_test = train_test_split(images, labels, test_size=0.1, random_state=42)\n",
    "\n",
    "interactions = int(math.floor(X_train.shape[0]/batch_size))\n",
    "print_times = 1\n",
    "print('mixDbn')\n",
    "for i in tqdm(range(epoch)):\n",
    "    cost_unsup_ = 0.0\n",
    "    cost_sup_ = 0.0\n",
    "    for j in range(interactions):\n",
    "        batch_xs, batch_ys = next_batch(j*batch_size, X_train,y_train,batch_size)\n",
    "        cost_sup,cost_unsup = mixDbn.partial_fit(batch_xs,batch_ys)\n",
    "        cost_sup_ += cost_sup\n",
    "        cost_unsup_ += cost_unsup\n",
    "#     if (i+1)%math.floor(epoch/print_times)==0:\n",
    "    print(i,'cost_sup_: ',cost_sup_,'cost_unsup_',cost_unsup_)\n",
    "\n",
    "mixDbn.save_weights('./data-models/mixDbn6.chp')\n"
   ]
  },
  {
   "cell_type": "code",
   "execution_count": 14,
   "metadata": {
    "collapsed": false
   },
   "outputs": [
    {
     "name": "stdout",
     "output_type": "stream",
     "text": [
      "(4200, 2) (4200, 10)\n"
     ]
    },
    {
     "data": {
      "text/plain": [
       "<matplotlib.legend.Legend at 0x7f0e1dbc8e10>"
      ]
     },
     "execution_count": 14,
     "metadata": {},
     "output_type": "execute_result"
    },
    {
     "data": {
      "image/png": "[encoded data removed]",
      "text/plain": [
       "<matplotlib.figure.Figure at 0x7f0d7c4a7410>"
      ]
     },
     "metadata": {},
     "output_type": "display_data"
    }
   ],
   "source": [
    "colors= [\"chartreuse\",\"crimson\",\"cyan\",\"darkblue\",\"darkmagenta\",\"darkorange\",\"darkviolet\",\"fuchsia\",\"green\",\"yellow\"]\n",
    "# colors = plt.cm.Spectral(np.linspace(0, 1, 10))\n",
    "\n",
    "X_transformed = mixDbn.transform(X_test)\n",
    "print(X_transformed.shape,y_test.shape)\n",
    "y_test_int = np.argmax(y_test, axis=1)\n",
    "plt.figure(figsize=(8, 8))\n",
    "for c, i,target_name in zip(colors, range(10),map(lambda x:str(x),range(10))):\n",
    "    plt.scatter(X_transformed[y_test_int == i, 0], X_transformed[y_test_int == i, 1],\n",
    "                c=c, label=target_name)\n",
    "    plt.title(\"Digits\")\n",
    "plt.legend(loc=\"best\")"
   ]
  },
  {
   "cell_type": "code",
   "execution_count": 15,
   "metadata": {
    "collapsed": false
   },
   "outputs": [
    {
     "name": "stdout",
     "output_type": "stream",
     "text": [
      "('For n_clusters =', 10, 'The average silhouette_score is :', 0.41739705)\n"
     ]
    },
    {
     "data": {
      "image/png": "[encoded data removed]",
      "text/plain": [
       "<matplotlib.figure.Figure at 0x7f0d842a6550>"
      ]
     },
     "metadata": {},
     "output_type": "display_data"
    }
   ],
   "source": [
    "\n",
    "# The silhouette_score gives the average value for all the samples.\n",
    "# This gives a perspective into the density and separation of the formed\n",
    "# clusters\n",
    "\n",
    "silhouette_plot.plotResult(X_transformed,y_test_int)\n"
   ]
  },
  {
   "cell_type": "code",
   "execution_count": null,
   "metadata": {
    "collapsed": true
   },
   "outputs": [],
   "source": []
  }
 ],
 "metadata": {
  "kernelspec": {
   "display_name": "Python 2",
   "language": "python",
   "name": "python2"
  },
  "language_info": {
   "codemirror_mode": {
    "name": "ipython",
    "version": 2
   },
   "file_extension": ".py",
   "mimetype": "text/x-python",
   "name": "python",
   "nbconvert_exporter": "python",
   "pygments_lexer": "ipython2",
   "version": "2.7.12"
  }
 },
 "nbformat": 4,
 "nbformat_minor": 1
}
